{
 "cells": [
  {
   "cell_type": "code",
   "execution_count": 1,
   "id": "4af59713-2b56-43ca-aefc-b6dc3d45d57b",
   "metadata": {},
   "outputs": [],
   "source": [
    "import tensorflow as tf\n",
    "import numpy as np\n",
    "import pandas as pd"
   ]
  },
  {
   "cell_type": "code",
   "execution_count": 2,
   "id": "4309fb79-2af5-4323-ae08-953c3fbedd0b",
   "metadata": {},
   "outputs": [],
   "source": [
    "class FeatureSelectionLayer(tf.keras.layers.Layer):\n",
    "    \"\"\" \n",
    "    A Layer that creates a one-to-one connection between the input neurons and the output neurons.\n",
    "    The weights are trainable, so the layer can be used as a feature selection layer.\n",
    "    \n",
    "    Possible usage: e.g. gene expression data\n",
    "    \"\"\"  \n",
    "    def __init__(self, *args, **kwargs):\n",
    "        super().__init__(*args, **kwargs)\n",
    "    \n",
    "    def build(self, input_shape):\n",
    "        self.kernel = self.add_weight(\"kernel\", shape=(int(input_shape[-1]),))\n",
    "    \n",
    "    def call(self, inputs):\n",
    "        return tf.multiply(inputs, self.kernel)"
   ]
  },
  {
   "cell_type": "markdown",
   "id": "bcbe5071-0a19-41bf-86ba-75ed01594932",
   "metadata": {},
   "source": [
    "### Example usage (Genexpressionanalysis with Single-Cell RNASeq-Data):\n",
    "Here i used a smaller test data set of some gene expression data, to predict if somone is a smoker or not. \n",
    "The problem: We have 18487 Feature (gene expression value). "
   ]
  },
  {
   "cell_type": "code",
   "execution_count": 3,
   "id": "7b8ac8a9-88f2-47ea-8399-a838aa1bf36e",
   "metadata": {},
   "outputs": [],
   "source": [
    "df_train = pd.read_csv(\"./train.csv\")\n",
    "df_test = pd.read_csv(\"./test.csv\")\n",
    "df_val = pd.read_csv(\"./val.csv\")"
   ]
  },
  {
   "cell_type": "code",
   "execution_count": 4,
   "id": "9ef3a9c3-9f42-47be-a9ea-45ea67422e64",
   "metadata": {},
   "outputs": [],
   "source": [
    "X_train = df_train.drop(columns=['SmokCigNow','ATS_PackYears'], axis = 1).to_numpy().astype('float32')\n",
    "Y_train = df_train['SmokCigNow'].to_numpy().reshape(-1,1)"
   ]
  },
  {
   "cell_type": "code",
   "execution_count": 5,
   "id": "b84f1ce0-4d8f-44c8-86ae-f52dcad70872",
   "metadata": {},
   "outputs": [],
   "source": [
    "X_val = df_val.drop(columns=['SmokCigNow','ATS_PackYears'], axis = 1).to_numpy().astype('float32')\n",
    "Y_val = df_val['SmokCigNow'].to_numpy().reshape(-1,1)\n",
    "X_test = df_test.drop(columns=['SmokCigNow', 'ATS_PackYears'], axis = 1).to_numpy().astype('float32')\n",
    "Y_test = df_test['SmokCigNow'].to_numpy().reshape(-1,1)"
   ]
  },
  {
   "cell_type": "markdown",
   "id": "9fded221-9546-45ec-8410-a24db5e5f855",
   "metadata": {},
   "source": [
    "### Without feature selection layer"
   ]
  },
  {
   "cell_type": "code",
   "execution_count": 6,
   "id": "8c8e610c-8201-4735-9022-bf9467e1127b",
   "metadata": {},
   "outputs": [
    {
     "name": "stdout",
     "output_type": "stream",
     "text": [
      "Epoch 1/10\n"
     ]
    },
    {
     "name": "stderr",
     "output_type": "stream",
     "text": [
      "2022-07-18 19:47:14.259399: I tensorflow/core/platform/cpu_feature_guard.cc:151] This TensorFlow binary is optimized with oneAPI Deep Neural Network Library (oneDNN) to use the following CPU instructions in performance-critical operations:  SSE4.1 SSE4.2 AVX AVX2 FMA\n",
      "To enable them in other operations, rebuild TensorFlow with the appropriate compiler flags.\n"
     ]
    },
    {
     "name": "stdout",
     "output_type": "stream",
     "text": [
      "7/7 [==============================] - 1s 83ms/step - loss: 156.9794 - accuracy: 0.5000 - val_loss: 52.5458 - val_accuracy: 0.8333\n",
      "Epoch 2/10\n",
      "7/7 [==============================] - 0s 56ms/step - loss: 43.8273 - accuracy: 0.5400 - val_loss: 10.4182 - val_accuracy: 0.8000\n",
      "Epoch 3/10\n",
      "7/7 [==============================] - 0s 58ms/step - loss: 28.4813 - accuracy: 0.5500 - val_loss: 23.9411 - val_accuracy: 0.8333\n",
      "Epoch 4/10\n",
      "7/7 [==============================] - 0s 65ms/step - loss: 39.3054 - accuracy: 0.6400 - val_loss: 11.6254 - val_accuracy: 0.8333\n",
      "Epoch 5/10\n",
      "7/7 [==============================] - 0s 57ms/step - loss: 27.9112 - accuracy: 0.6100 - val_loss: 15.7829 - val_accuracy: 0.8333\n",
      "Epoch 6/10\n",
      "7/7 [==============================] - 0s 57ms/step - loss: 32.4452 - accuracy: 0.5400 - val_loss: 11.3398 - val_accuracy: 0.8333\n",
      "Epoch 7/10\n",
      "7/7 [==============================] - 0s 58ms/step - loss: 16.1408 - accuracy: 0.7100 - val_loss: 11.4933 - val_accuracy: 0.8333\n",
      "Epoch 8/10\n",
      "7/7 [==============================] - 0s 57ms/step - loss: 13.7567 - accuracy: 0.6800 - val_loss: 16.4018 - val_accuracy: 0.8333\n",
      "Epoch 9/10\n",
      "7/7 [==============================] - 0s 57ms/step - loss: 13.3802 - accuracy: 0.7400 - val_loss: 14.3367 - val_accuracy: 0.8333\n",
      "Epoch 10/10\n",
      "7/7 [==============================] - 0s 56ms/step - loss: 12.7037 - accuracy: 0.8100 - val_loss: 9.4513 - val_accuracy: 0.6333\n"
     ]
    },
    {
     "data": {
      "text/plain": [
       "<keras.callbacks.History at 0x7fcf41d789a0>"
      ]
     },
     "execution_count": 6,
     "metadata": {},
     "output_type": "execute_result"
    }
   ],
   "source": [
    "\n",
    "actf = 'relu'\n",
    "input_shape = X_train.shape[1]\n",
    "kernel_regularizer= tf.keras.regularizers.L2(0.015)\n",
    "kernel_regularizer_2= tf.keras.regularizers.L2(0.005)\n",
    "\n",
    "mdl = tf.keras.models.Sequential([\n",
    "    tf.keras.layers.Dense(512, activation=actf, kernel_regularizer=kernel_regularizer),\n",
    "    tf.keras.layers.Dense(2, activation='softmax'),\n",
    "                          ])\n",
    "\n",
    "loss_func = tf.keras.losses.SparseCategoricalCrossentropy()\n",
    "\n",
    "mdl.compile(optimizer='adam',\n",
    "            loss=loss_func,\n",
    "            metrics=['accuracy'])\n",
    "\n",
    "mdl.fit(X_train,\n",
    "        Y_train,\n",
    "        validation_data=(X_val,Y_val),\n",
    "        batch_size=16,\n",
    "        epochs=10,\n",
    "        verbose=1)"
   ]
  },
  {
   "cell_type": "markdown",
   "id": "d607559a-5de8-4ab6-91c8-735580ebc77f",
   "metadata": {},
   "source": [
    "### With feature selection layer"
   ]
  },
  {
   "cell_type": "code",
   "execution_count": 7,
   "id": "655cd113-7a45-4080-adb7-6fee4f8640e5",
   "metadata": {},
   "outputs": [
    {
     "name": "stdout",
     "output_type": "stream",
     "text": [
      "Epoch 1/10\n",
      "7/7 [==============================] - 1s 77ms/step - loss: 11.1186 - accuracy: 0.6300 - val_loss: 5.3596 - val_accuracy: 0.1667\n",
      "Epoch 2/10\n",
      "7/7 [==============================] - 0s 59ms/step - loss: 3.5327 - accuracy: 0.5400 - val_loss: 1.6241 - val_accuracy: 0.8333\n",
      "Epoch 3/10\n",
      "7/7 [==============================] - 0s 58ms/step - loss: 1.4666 - accuracy: 0.7000 - val_loss: 1.0749 - val_accuracy: 0.8333\n",
      "Epoch 4/10\n",
      "7/7 [==============================] - 0s 59ms/step - loss: 1.3527 - accuracy: 0.6800 - val_loss: 1.1939 - val_accuracy: 0.7333\n",
      "Epoch 5/10\n",
      "7/7 [==============================] - 0s 60ms/step - loss: 1.0458 - accuracy: 0.7800 - val_loss: 0.7567 - val_accuracy: 0.8333\n",
      "Epoch 6/10\n",
      "7/7 [==============================] - 0s 60ms/step - loss: 0.8614 - accuracy: 0.6800 - val_loss: 0.6597 - val_accuracy: 0.8333\n",
      "Epoch 7/10\n",
      "7/7 [==============================] - 0s 59ms/step - loss: 0.6882 - accuracy: 0.6800 - val_loss: 0.5930 - val_accuracy: 0.8333\n",
      "Epoch 8/10\n",
      "7/7 [==============================] - 0s 63ms/step - loss: 0.6147 - accuracy: 0.6900 - val_loss: 0.5661 - val_accuracy: 0.8333\n",
      "Epoch 9/10\n",
      "7/7 [==============================] - 0s 60ms/step - loss: 0.5523 - accuracy: 0.7200 - val_loss: 0.5605 - val_accuracy: 0.8333\n",
      "Epoch 10/10\n",
      "7/7 [==============================] - 0s 69ms/step - loss: 0.5013 - accuracy: 0.8800 - val_loss: 0.5933 - val_accuracy: 0.9000\n"
     ]
    },
    {
     "data": {
      "text/plain": [
       "<keras.callbacks.History at 0x7fcf40f993a0>"
      ]
     },
     "execution_count": 7,
     "metadata": {},
     "output_type": "execute_result"
    }
   ],
   "source": [
    "\n",
    "actf = 'relu'\n",
    "input_shape = X_train.shape[1]\n",
    "kernel_regularizer= tf.keras.regularizers.L2(0.015)\n",
    "kernel_regularizer_2= tf.keras.regularizers.L2(0.005)\n",
    "\n",
    "mdl = tf.keras.models.Sequential([\n",
    "    FeatureSelectionLayer(name=\"feature_selection_input\", input_shape=(input_shape,)),\n",
    "    tf.keras.layers.Dense(512, activation=actf, kernel_regularizer=kernel_regularizer),\n",
    "    tf.keras.layers.Dense(2, activation='softmax'),\n",
    "                          ])\n",
    "\n",
    "loss_func = tf.keras.losses.SparseCategoricalCrossentropy()\n",
    "\n",
    "mdl.compile(optimizer='adam',\n",
    "            loss=loss_func,\n",
    "            metrics=['accuracy'])\n",
    "\n",
    "mdl.fit(X_train,\n",
    "        Y_train,\n",
    "        validation_data=(X_val,Y_val),\n",
    "        batch_size=16,\n",
    "        epochs=10,\n",
    "        verbose=1)"
   ]
  },
  {
   "cell_type": "code",
   "execution_count": null,
   "id": "62badfbb-bd4d-4e7e-8dbe-8773e2290334",
   "metadata": {},
   "outputs": [],
   "source": []
  }
 ],
 "metadata": {
  "kernelspec": {
   "display_name": "layer_env",
   "language": "python",
   "name": "layer_env"
  },
  "language_info": {
   "codemirror_mode": {
    "name": "ipython",
    "version": 3
   },
   "file_extension": ".py",
   "mimetype": "text/x-python",
   "name": "python",
   "nbconvert_exporter": "python",
   "pygments_lexer": "ipython3",
   "version": "3.9.5"
  }
 },
 "nbformat": 4,
 "nbformat_minor": 5
}
